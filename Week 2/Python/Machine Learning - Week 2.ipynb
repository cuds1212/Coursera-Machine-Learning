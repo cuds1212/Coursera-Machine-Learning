{
 "cells": [
  {
   "cell_type": "markdown",
   "metadata": {},
   "source": [
    "# Coursera Machine Learning\n",
    "\n",
    "## Week 2 - Linear Regression\n",
    "\n",
    "**Kevin Rompala, Ph.D., cuds1212_AT_gmail.com**\n",
    "\n",
    "*Last Updated: Friday, March 17, 2017*"
   ]
  },
  {
   "cell_type": "markdown",
   "metadata": {},
   "source": [
    "### Part 1 - Univariate Linear Regression\n",
    "\n",
    "From the assignment handout...\n",
    "\n",
    "*Supose you are the CEO of a restaurant franchise and are considering different cities for opening a new outlet. The chain already has trucks in various cities and you have data for profits and populations from the cities. You would like to use this data to help you select which city to expand to next.*"
   ]
  },
  {
   "cell_type": "code",
   "execution_count": 114,
   "metadata": {
    "collapsed": false
   },
   "outputs": [
    {
     "name": "stdout",
     "output_type": "stream",
     "text": [
      "Machine Learning - Week 2.ipynb  ex1data2.txt\r\n",
      "ex1data1.txt\r\n"
     ]
    }
   ],
   "source": [
    "%ls"
   ]
  },
  {
   "cell_type": "markdown",
   "metadata": {},
   "source": [
    "The data for Part 1 is contained in ```ex1data1.txt```."
   ]
  },
  {
   "cell_type": "code",
   "execution_count": 115,
   "metadata": {
    "collapsed": false
   },
   "outputs": [],
   "source": [
    "import numpy as np\n",
    "import matplotlib.pyplot as plt\n",
    "import csv\n",
    "\n",
    "%matplotlib inline"
   ]
  },
  {
   "cell_type": "markdown",
   "metadata": {},
   "source": [
    "Since this is a relatively small and ***clean*** csv file we will read the data directly into a list and then turn it into a NumPy array (instead of using Pandas)."
   ]
  },
  {
   "cell_type": "code",
   "execution_count": 116,
   "metadata": {
    "collapsed": false
   },
   "outputs": [
    {
     "name": "stdout",
     "output_type": "stream",
     "text": [
      "The length of the data array is 97.\n"
     ]
    }
   ],
   "source": [
    "data = []\n",
    "\n",
    "with open('./ex1data1.txt') as dataFile:\n",
    "    rawData = csv.reader(dataFile)\n",
    "    for line in rawData:\n",
    "        data.append(line)\n",
    "        \n",
    "data = np.array(data).astype(float)\n",
    "\n",
    "# Syntax for using Pandas to read data file.\n",
    "# data = pd.read_csv('./ex1data1.txt',header=None,names=['population','profit'])\n",
    "\n",
    "print('The length of the data array is {}.'.format(len(data)))"
   ]
  },
  {
   "cell_type": "code",
   "execution_count": 117,
   "metadata": {
    "collapsed": false
   },
   "outputs": [
    {
     "name": "stdout",
     "output_type": "stream",
     "text": [
      "[[  6.1101   17.592  ]\n",
      " [  5.5277    9.1302 ]\n",
      " [  8.5186   13.662  ]\n",
      " [  7.0032   11.854  ]\n",
      " [  5.8598    6.8233 ]\n",
      " [  8.3829   11.886  ]\n",
      " [  7.4764    4.3483 ]\n",
      " [  8.5781   12.     ]\n",
      " [  6.4862    6.5987 ]\n",
      " [  5.0546    3.8166 ]\n",
      " [  5.7107    3.2522 ]\n",
      " [ 14.164    15.505  ]\n",
      " [  5.734     3.1551 ]\n",
      " [  8.4084    7.2258 ]\n",
      " [  5.6407    0.71618]]\n"
     ]
    }
   ],
   "source": [
    "print(data[0:15,:])"
   ]
  },
  {
   "cell_type": "markdown",
   "metadata": {},
   "source": [
    "The first column is the population of a city (in 10,000's) and the second column is the profit of a food truck (in $10,000's) in that city.\n",
    "\n",
    "We begin our analysis by visualizing the 2-dimensional data array."
   ]
  },
  {
   "cell_type": "code",
   "execution_count": 118,
   "metadata": {
    "collapsed": false
   },
   "outputs": [
    {
     "data": {
      "image/png": "[encoded data removed]",
      "text/plain": [
       "<matplotlib.figure.Figure at 0x11a762908>"
      ]
     },
     "metadata": {},
     "output_type": "display_data"
    }
   ],
   "source": [
    "x = data[:,0] # independent variable\n",
    "y = data[:,1] # dependent variable\n",
    "\n",
    "fig,ax = plt.subplots(figsize=(7,7))\n",
    "\n",
    "ax.plot(x,y,'rx',markersize=8,markeredgewidth=2)\n",
    "\n",
    "ax.grid(True)\n",
    "ax.set_xlabel(\"Population (in 10,000's)\")\n",
    "ax.set_ylabel(\"Profit (in $10,000's)\")\n",
    "ax.set_title(\"Profit vs. City Population\")\n",
    "ax.set_xlim([4,25])\n",
    "ax.set_ylim([-5,30])\n",
    "\n",
    "plt.show()"
   ]
  },
  {
   "cell_type": "markdown",
   "metadata": {},
   "source": [
    "**There appears to be a somewhat strong positive correlation between city population and food truck profit!**\n",
    "\n",
    "We will build a linear regression model for the data using our own function implementing the gradient descent algorithm. First we need to write a function to compute the value of the cost function we will be using."
   ]
  },
  {
   "cell_type": "code",
   "execution_count": 119,
   "metadata": {
    "collapsed": false
   },
   "outputs": [],
   "source": [
    "def computeCost(X, y, theta):\n",
    "    \"\"\"\n",
    "    Computes the cost function used with linear regression.\n",
    "    \n",
    "    X = m-by-n+1 NumPy array\n",
    "    y = m-by-1 Numpy array\n",
    "    theta = n+1-by-1 Numpy array\n",
    "    \"\"\"\n",
    "    m = len(y)\n",
    "    \n",
    "    cost = 1/(2*m)*np.sum(np.square(X @ theta - y))\n",
    "    \n",
    "    return cost"
   ]
  },
  {
   "cell_type": "markdown",
   "metadata": {},
   "source": [
    "To properly use our vectorized ```computeCost``` function we will need to add a column of 1's to our data matrix ```x``` and ensure ```y``` has the expected shape as well. Finally we test the function using some default values for ```theta```."
   ]
  },
  {
   "cell_type": "code",
   "execution_count": 120,
   "metadata": {
    "collapsed": false
   },
   "outputs": [],
   "source": [
    "X = np.concatenate([np.ones([len(x),1]),x.reshape(-1,1)],axis=1)\n",
    "y = y.reshape(-1,1)\n",
    "theta = np.array([[0],[0]])"
   ]
  },
  {
   "cell_type": "code",
   "execution_count": 121,
   "metadata": {
    "collapsed": false
   },
   "outputs": [
    {
     "name": "stdout",
     "output_type": "stream",
     "text": [
      "The default cost with parameters equal to zero is 32.072733877455676.\n"
     ]
    }
   ],
   "source": [
    "defaultCost = computeCost(X,y,theta)\n",
    "\n",
    "print('The default cost with parameters equal to zero is {}.'.format(defaultCost))"
   ]
  },
  {
   "cell_type": "markdown",
   "metadata": {},
   "source": [
    "Now we write a function to implement the gradient descent algorithm for linear regression. This function will return a final ```theta``` vector as well as a history of cost function values for the algorithm."
   ]
  },
  {
   "cell_type": "code",
   "execution_count": 122,
   "metadata": {
    "collapsed": true
   },
   "outputs": [],
   "source": [
    "def gradientDescent(X,y,theta,alpha,num_iters):\n",
    "    \"\"\"\n",
    "    Implements the gradient descent algrorithm for linear regression.\n",
    "    \n",
    "    X = m-by-n+1 NumPy array\n",
    "    y = m-by-1 Numpy array\n",
    "    theta = n+1-by-1 Numpy array\n",
    "    alpha = learning rate (float)\n",
    "    num_iters = maximum number of iterations (int)\n",
    "    \"\"\"\n",
    "    \n",
    "    J_hist = np.zeros((num_iters+1,1))\n",
    "    \n",
    "    m = len(y)\n",
    "    \n",
    "    for i in range(num_iters):\n",
    "        J_hist[i] = computeCost(X,y,theta)\n",
    "        theta = theta - (alpha/m)*X.T @ (X @ theta - y) # vectorized gradient descent\n",
    "\n",
    "    J_hist[num_iters] = computeCost(X,y,theta)\n",
    "        \n",
    "    return [theta, J_hist]"
   ]
  },
  {
   "cell_type": "code",
   "execution_count": 123,
   "metadata": {
    "collapsed": false
   },
   "outputs": [],
   "source": [
    "theta_final, J_hist = gradientDescent(X,y,theta,0.01,3000)"
   ]
  },
  {
   "cell_type": "markdown",
   "metadata": {},
   "source": [
    "To check that the gradient descent algorithm is converging towards an optimal solution we visualize the value of the cost function versus the number of iterations performed."
   ]
  },
  {
   "cell_type": "code",
   "execution_count": 124,
   "metadata": {
    "collapsed": false
   },
   "outputs": [
    {
     "data": {
      "text/plain": [
       "<matplotlib.text.Text at 0x11aa17be0>"
      ]
     },
     "execution_count": 124,
     "metadata": {},
     "output_type": "execute_result"
    },
    {
     "data": {
      "image/png": "[encoded data removed]",
      "text/plain": [
       "<matplotlib.figure.Figure at 0x10c463c88>"
      ]
     },
     "metadata": {},
     "output_type": "display_data"
    }
   ],
   "source": [
    "fig,ax = plt.subplots()\n",
    "\n",
    "ax.plot(range(len(J_hist)),J_hist,'r')\n",
    "ax.grid(True)\n",
    "ax.set_xlim([0, 3000])\n",
    "ax.set_ylim([0,40])\n",
    "\n",
    "ax.set_xlabel('Number of Iterations')\n",
    "ax.set_ylabel('Value of Cost Function')\n",
    "ax.set_title('Value of Cost Function vs. Number of Iterations')"
   ]
  },
  {
   "cell_type": "markdown",
   "metadata": {},
   "source": [
    "From the above graph it appears that the gradient descent algorithm has converged to an optimal theta! If we wanted to this would also be a good time to investigate the effect of the learning rate ```alpha``` on the rate of convergence."
   ]
  },
  {
   "cell_type": "code",
   "execution_count": 125,
   "metadata": {
    "collapsed": false
   },
   "outputs": [
    {
     "name": "stdout",
     "output_type": "stream",
     "text": [
      "The optimal parameter values are:\n",
      "\n",
      "theta0: -3.8780511750501696\n",
      "theta1: 1.1912525031860843\n"
     ]
    }
   ],
   "source": [
    "print('The optimal parameter values are:\\n')\n",
    "for i in range(len(theta)):\n",
    "    print('theta{}'.format(i) + ': ' + '{}'.format(float(theta_final[i])))"
   ]
  },
  {
   "cell_type": "markdown",
   "metadata": {},
   "source": [
    "Finally we will plot our resulting optimal model with the original data."
   ]
  },
  {
   "cell_type": "code",
   "execution_count": 126,
   "metadata": {
    "collapsed": false
   },
   "outputs": [],
   "source": [
    "b = float(theta_final[0])\n",
    "m = float(theta_final[1])"
   ]
  },
  {
   "cell_type": "code",
   "execution_count": 127,
   "metadata": {
    "collapsed": false
   },
   "outputs": [
    {
     "data": {
      "image/png": "[encoded data removed]",
      "text/plain": [
       "<matplotlib.figure.Figure at 0x11a7fce80>"
      ]
     },
     "metadata": {},
     "output_type": "display_data"
    }
   ],
   "source": [
    "x = data[:,0]\n",
    "y = data[:,1]\n",
    "\n",
    "fig,ax = plt.subplots(figsize=(7,7))\n",
    "\n",
    "ax.plot(x,y,'rx',markersize=8,markeredgewidth=2)\n",
    "\n",
    "t = np.linspace(0,30,1000)\n",
    "ax.plot(t,m*t+b,'g',linewidth=3)\n",
    "\n",
    "ax.grid(True)\n",
    "ax.set_xlabel(\"Population (in 10,000's)\")\n",
    "ax.set_ylabel(\"Profit (in $10,000's)\")\n",
    "ax.set_title(\"Profit vs. City Population\")\n",
    "ax.set_xlim([4,25])\n",
    "ax.set_ylim([-5,30])\n",
    "\n",
    "plt.show()"
   ]
  },
  {
   "cell_type": "markdown",
   "metadata": {},
   "source": [
    "### Part 1a - Implemenation Using Statsmodels Package"
   ]
  },
  {
   "cell_type": "markdown",
   "metadata": {},
   "source": [
    "Here we implement the same linear regression model using the **Statsmodels** package."
   ]
  },
  {
   "cell_type": "code",
   "execution_count": 128,
   "metadata": {
    "collapsed": true
   },
   "outputs": [],
   "source": [
    "import statsmodels.api as sm"
   ]
  },
  {
   "cell_type": "code",
   "execution_count": 129,
   "metadata": {
    "collapsed": false
   },
   "outputs": [
    {
     "name": "stdout",
     "output_type": "stream",
     "text": [
      "                            OLS Regression Results                            \n",
      "==============================================================================\n",
      "Dep. Variable:                      y   R-squared:                       0.702\n",
      "Model:                            OLS   Adj. R-squared:                  0.699\n",
      "Method:                 Least Squares   F-statistic:                     223.8\n",
      "Date:                Fri, 17 Mar 2017   Prob (F-statistic):           1.02e-26\n",
      "Time:                        12:13:47   Log-Likelihood:                -243.95\n",
      "No. Observations:                  97   AIC:                             491.9\n",
      "Df Residuals:                      95   BIC:                             497.1\n",
      "Df Model:                           1                                         \n",
      "Covariance Type:            nonrobust                                         \n",
      "==============================================================================\n",
      "                 coef    std err          t      P>|t|      [95.0% Conf. Int.]\n",
      "------------------------------------------------------------------------------\n",
      "const         -3.8958      0.719     -5.415      0.000        -5.324    -2.467\n",
      "x1             1.1930      0.080     14.961      0.000         1.035     1.351\n",
      "==============================================================================\n",
      "Omnibus:                       39.986   Durbin-Watson:                   0.994\n",
      "Prob(Omnibus):                  0.000   Jarque-Bera (JB):              108.142\n",
      "Skew:                           1.455   Prob(JB):                     3.29e-24\n",
      "Kurtosis:                       7.276   Cond. No.                         21.4\n",
      "==============================================================================\n",
      "\n",
      "Warnings:\n",
      "[1] Standard Errors assume that the covariance matrix of the errors is correctly specified.\n"
     ]
    }
   ],
   "source": [
    "x = data[:,0]\n",
    "y = data[:,1]\n",
    "\n",
    "X = sm.add_constant(x)\n",
    "\n",
    "model = sm.OLS(y,X)\n",
    "results = model.fit()\n",
    "\n",
    "print(results.summary())"
   ]
  },
  {
   "cell_type": "code",
   "execution_count": 130,
   "metadata": {
    "collapsed": false
   },
   "outputs": [
    {
     "name": "stdout",
     "output_type": "stream",
     "text": [
      "The optimal parameter values are:\n",
      "\n",
      "theta0: -3.8957808783118537\n",
      "theta1: 1.193033644189594\n"
     ]
    }
   ],
   "source": [
    "print('The optimal parameter values are:\\n')\n",
    "for i in range(len(theta)):\n",
    "    print('theta{}'.format(i) + ': ' + '{}'.format(results.params[i]))"
   ]
  },
  {
   "cell_type": "markdown",
   "metadata": {},
   "source": [
    "### Part 1b - Implementation Using Scikit-learn Package"
   ]
  },
  {
   "cell_type": "markdown",
   "metadata": {},
   "source": [
    "Here we implement the same linear regression model using the **Scikit-learn** package."
   ]
  },
  {
   "cell_type": "code",
   "execution_count": 131,
   "metadata": {
    "collapsed": false
   },
   "outputs": [],
   "source": [
    "from sklearn.linear_model import LinearRegression"
   ]
  },
  {
   "cell_type": "code",
   "execution_count": 132,
   "metadata": {
    "collapsed": false
   },
   "outputs": [
    {
     "data": {
      "text/plain": [
       "LinearRegression(copy_X=True, fit_intercept=True, n_jobs=1, normalize=False)"
      ]
     },
     "execution_count": 132,
     "metadata": {},
     "output_type": "execute_result"
    }
   ],
   "source": [
    "x = data[:,0].reshape(-1,1)\n",
    "y = data[:,1].reshape(-1,1)\n",
    "\n",
    "model = LinearRegression()\n",
    "model.fit(x,y)"
   ]
  },
  {
   "cell_type": "code",
   "execution_count": 133,
   "metadata": {
    "collapsed": false
   },
   "outputs": [
    {
     "name": "stdout",
     "output_type": "stream",
     "text": [
      "The optimal parameter values are:\n",
      "\n",
      "theta0: -3.89578087831185\n",
      "theta1: 1.1930336441895935\n"
     ]
    }
   ],
   "source": [
    "print('The optimal parameter values are:\\n')\n",
    "print('theta0: ' + str(float(model.intercept_)))\n",
    "for i in range(len(theta)-1):\n",
    "    print('theta{}'.format(i+1) + ': ' + '{}'.format(float(model.coef_[i])))"
   ]
  },
  {
   "cell_type": "markdown",
   "metadata": {},
   "source": [
    "## Part 2 - Multivariate Linear Regression\n",
    "\n",
    "From the assignment handout..\n",
    "\n",
    "*Suppose you are selling your house and you want to know what a good market price would be. One way to do this is to first collect information on recent houses sold and make a model of housing prices.*"
   ]
  },
  {
   "cell_type": "code",
   "execution_count": 134,
   "metadata": {
    "collapsed": false
   },
   "outputs": [
    {
     "name": "stdout",
     "output_type": "stream",
     "text": [
      "Machine Learning - Week 2.ipynb  ex1data2.txt\r\n",
      "ex1data1.txt\r\n"
     ]
    }
   ],
   "source": [
    "%ls"
   ]
  },
  {
   "cell_type": "markdown",
   "metadata": {},
   "source": [
    "The data for Part 2 is contained in ```ex1data2.txt```. For this part of the assignment we will use the **Pandas** library."
   ]
  },
  {
   "cell_type": "code",
   "execution_count": 135,
   "metadata": {
    "collapsed": true
   },
   "outputs": [],
   "source": [
    "import pandas as pd"
   ]
  },
  {
   "cell_type": "code",
   "execution_count": 136,
   "metadata": {
    "collapsed": false
   },
   "outputs": [],
   "source": [
    "data = pd.read_csv('./ex1data2.txt',header=None,names=['size','bedrooms','price'])"
   ]
  },
  {
   "cell_type": "code",
   "execution_count": 137,
   "metadata": {
    "collapsed": false
   },
   "outputs": [
    {
     "name": "stdout",
     "output_type": "stream",
     "text": [
      "<class 'pandas.core.frame.DataFrame'>\n",
      "RangeIndex: 47 entries, 0 to 46\n",
      "Data columns (total 3 columns):\n",
      "size        47 non-null int64\n",
      "bedrooms    47 non-null int64\n",
      "price       47 non-null int64\n",
      "dtypes: int64(3)\n",
      "memory usage: 1.2 KB\n"
     ]
    }
   ],
   "source": [
    "data.info()"
   ]
  },
  {
   "cell_type": "markdown",
   "metadata": {},
   "source": [
    "This is a nice, clean dataset!"
   ]
  },
  {
   "cell_type": "code",
   "execution_count": 138,
   "metadata": {
    "collapsed": false
   },
   "outputs": [
    {
     "data": {
      "text/html": [
       "<div>\n",
       "<table border=\"1\" class=\"dataframe\">\n",
       "  <thead>\n",
       "    <tr style=\"text-align: right;\">\n",
       "      <th></th>\n",
       "      <th>size</th>\n",
       "      <th>bedrooms</th>\n",
       "      <th>price</th>\n",
       "    </tr>\n",
       "  </thead>\n",
       "  <tbody>\n",
       "    <tr>\n",
       "      <th>count</th>\n",
       "      <td>47.000000</td>\n",
       "      <td>47.000000</td>\n",
       "      <td>47.000000</td>\n",
       "    </tr>\n",
       "    <tr>\n",
       "      <th>mean</th>\n",
       "      <td>2000.680851</td>\n",
       "      <td>3.170213</td>\n",
       "      <td>340412.659574</td>\n",
       "    </tr>\n",
       "    <tr>\n",
       "      <th>std</th>\n",
       "      <td>794.702354</td>\n",
       "      <td>0.760982</td>\n",
       "      <td>125039.899586</td>\n",
       "    </tr>\n",
       "    <tr>\n",
       "      <th>min</th>\n",
       "      <td>852.000000</td>\n",
       "      <td>1.000000</td>\n",
       "      <td>169900.000000</td>\n",
       "    </tr>\n",
       "    <tr>\n",
       "      <th>25%</th>\n",
       "      <td>1432.000000</td>\n",
       "      <td>3.000000</td>\n",
       "      <td>249900.000000</td>\n",
       "    </tr>\n",
       "    <tr>\n",
       "      <th>50%</th>\n",
       "      <td>1888.000000</td>\n",
       "      <td>3.000000</td>\n",
       "      <td>299900.000000</td>\n",
       "    </tr>\n",
       "    <tr>\n",
       "      <th>75%</th>\n",
       "      <td>2269.000000</td>\n",
       "      <td>4.000000</td>\n",
       "      <td>384450.000000</td>\n",
       "    </tr>\n",
       "    <tr>\n",
       "      <th>max</th>\n",
       "      <td>4478.000000</td>\n",
       "      <td>5.000000</td>\n",
       "      <td>699900.000000</td>\n",
       "    </tr>\n",
       "  </tbody>\n",
       "</table>\n",
       "</div>"
      ],
      "text/plain": [
       "              size   bedrooms          price\n",
       "count    47.000000  47.000000      47.000000\n",
       "mean   2000.680851   3.170213  340412.659574\n",
       "std     794.702354   0.760982  125039.899586\n",
       "min     852.000000   1.000000  169900.000000\n",
       "25%    1432.000000   3.000000  249900.000000\n",
       "50%    1888.000000   3.000000  299900.000000\n",
       "75%    2269.000000   4.000000  384450.000000\n",
       "max    4478.000000   5.000000  699900.000000"
      ]
     },
     "execution_count": 138,
     "metadata": {},
     "output_type": "execute_result"
    }
   ],
   "source": [
    "data.describe()"
   ]
  },
  {
   "cell_type": "markdown",
   "metadata": {
    "collapsed": true
   },
   "source": [
    "Note that the two independent variables have values on vastly different scales! Therefore we will perform feature scaling on the data using the **Scikit-learn** package."
   ]
  },
  {
   "cell_type": "code",
   "execution_count": 139,
   "metadata": {
    "collapsed": true
   },
   "outputs": [],
   "source": [
    "from sklearn.preprocessing import StandardScaler"
   ]
  },
  {
   "cell_type": "code",
   "execution_count": 140,
   "metadata": {
    "collapsed": false
   },
   "outputs": [],
   "source": [
    "scaler = StandardScaler()\n",
    "\n",
    "data[['size','bedrooms']] = scaler.fit_transform(data[['size','bedrooms']])"
   ]
  },
  {
   "cell_type": "code",
   "execution_count": 141,
   "metadata": {
    "collapsed": false
   },
   "outputs": [
    {
     "data": {
      "text/html": [
       "<div>\n",
       "<table border=\"1\" class=\"dataframe\">\n",
       "  <thead>\n",
       "    <tr style=\"text-align: right;\">\n",
       "      <th></th>\n",
       "      <th>size</th>\n",
       "      <th>bedrooms</th>\n",
       "      <th>price</th>\n",
       "    </tr>\n",
       "  </thead>\n",
       "  <tbody>\n",
       "    <tr>\n",
       "      <th>count</th>\n",
       "      <td>4.700000e+01</td>\n",
       "      <td>4.700000e+01</td>\n",
       "      <td>47.000000</td>\n",
       "    </tr>\n",
       "    <tr>\n",
       "      <th>mean</th>\n",
       "      <td>-9.448707e-18</td>\n",
       "      <td>2.427137e-16</td>\n",
       "      <td>340412.659574</td>\n",
       "    </tr>\n",
       "    <tr>\n",
       "      <th>std</th>\n",
       "      <td>1.010811e+00</td>\n",
       "      <td>1.010811e+00</td>\n",
       "      <td>125039.899586</td>\n",
       "    </tr>\n",
       "    <tr>\n",
       "      <th>min</th>\n",
       "      <td>-1.461049e+00</td>\n",
       "      <td>-2.882690e+00</td>\n",
       "      <td>169900.000000</td>\n",
       "    </tr>\n",
       "    <tr>\n",
       "      <th>25%</th>\n",
       "      <td>-7.233261e-01</td>\n",
       "      <td>-2.260934e-01</td>\n",
       "      <td>249900.000000</td>\n",
       "    </tr>\n",
       "    <tr>\n",
       "      <th>50%</th>\n",
       "      <td>-1.433229e-01</td>\n",
       "      <td>-2.260934e-01</td>\n",
       "      <td>299900.000000</td>\n",
       "    </tr>\n",
       "    <tr>\n",
       "      <th>75%</th>\n",
       "      <td>3.412850e-01</td>\n",
       "      <td>1.102205e+00</td>\n",
       "      <td>384450.000000</td>\n",
       "    </tr>\n",
       "    <tr>\n",
       "      <th>max</th>\n",
       "      <td>3.150993e+00</td>\n",
       "      <td>2.430504e+00</td>\n",
       "      <td>699900.000000</td>\n",
       "    </tr>\n",
       "  </tbody>\n",
       "</table>\n",
       "</div>"
      ],
      "text/plain": [
       "               size      bedrooms          price\n",
       "count  4.700000e+01  4.700000e+01      47.000000\n",
       "mean  -9.448707e-18  2.427137e-16  340412.659574\n",
       "std    1.010811e+00  1.010811e+00  125039.899586\n",
       "min   -1.461049e+00 -2.882690e+00  169900.000000\n",
       "25%   -7.233261e-01 -2.260934e-01  249900.000000\n",
       "50%   -1.433229e-01 -2.260934e-01  299900.000000\n",
       "75%    3.412850e-01  1.102205e+00  384450.000000\n",
       "max    3.150993e+00  2.430504e+00  699900.000000"
      ]
     },
     "execution_count": 141,
     "metadata": {},
     "output_type": "execute_result"
    }
   ],
   "source": [
    "data.describe()"
   ]
  },
  {
   "cell_type": "markdown",
   "metadata": {},
   "source": [
    "Note that ```size``` and ```bedroom``` now have zero mean and unit standard deviation!"
   ]
  },
  {
   "cell_type": "code",
   "execution_count": 142,
   "metadata": {
    "collapsed": false
   },
   "outputs": [
    {
     "data": {
      "text/plain": [
       "array([  7.86202619e+02,   7.52842809e-01])"
      ]
     },
     "execution_count": 142,
     "metadata": {},
     "output_type": "execute_result"
    }
   ],
   "source": [
    "scaler.scale_"
   ]
  },
  {
   "cell_type": "markdown",
   "metadata": {},
   "source": [
    "Now we perform multivatiate linear regression with **Scikit-learn**."
   ]
  },
  {
   "cell_type": "code",
   "execution_count": 143,
   "metadata": {
    "collapsed": false
   },
   "outputs": [
    {
     "data": {
      "text/plain": [
       "LinearRegression(copy_X=True, fit_intercept=True, n_jobs=1, normalize=False)"
      ]
     },
     "execution_count": 143,
     "metadata": {},
     "output_type": "execute_result"
    }
   ],
   "source": [
    "x = data[['size','bedrooms']].values\n",
    "y = data['price'].values\n",
    "\n",
    "reg = LinearRegression()\n",
    "\n",
    "reg.fit(x,y)"
   ]
  },
  {
   "cell_type": "code",
   "execution_count": 144,
   "metadata": {
    "collapsed": false
   },
   "outputs": [
    {
     "name": "stdout",
     "output_type": "stream",
     "text": [
      "The intercept is 340412.6595744681 while the parameters are 109447.7964696418, -6578.354854161259.\n"
     ]
    }
   ],
   "source": [
    "print('The intercept is {} '.format(reg.intercept_) + 'while the parameters are {}, {}.'.format(reg.coef_[0],reg.coef_[1]))"
   ]
  },
  {
   "cell_type": "markdown",
   "metadata": {},
   "source": [
    "Let us compare this result with what we get from using our own gradient descent algorithm."
   ]
  },
  {
   "cell_type": "code",
   "execution_count": 145,
   "metadata": {
    "collapsed": false
   },
   "outputs": [],
   "source": [
    "X = np.concatenate([np.ones([len(x),1]), x], axis=1).reshape(-1,3)\n",
    "y = y.reshape(-1,1)\n",
    "\n",
    "initial_theta = np.array([[0],[0],[0]])\n",
    "\n",
    "theta_final, J_hist = gradientDescent(X,y,initial_theta,0.01,3000)"
   ]
  },
  {
   "cell_type": "code",
   "execution_count": 146,
   "metadata": {
    "collapsed": false
   },
   "outputs": [
    {
     "name": "stdout",
     "output_type": "stream",
     "text": [
      "The intercept is 340412.6595744407 while the parameters are 109447.6922953581, -6578.250679877556.\n"
     ]
    }
   ],
   "source": [
    "print('The intercept is {} '.format(float(theta_final[0])) + 'while the parameters are {}, {}.'.format(float(theta_final[1]),float(theta_final[2])))"
   ]
  },
  {
   "cell_type": "code",
   "execution_count": null,
   "metadata": {
    "collapsed": true
   },
   "outputs": [],
   "source": []
  }
 ],
 "metadata": {
  "anaconda-cloud": {},
  "kernelspec": {
   "display_name": "Python [conda root]",
   "language": "python",
   "name": "conda-root-py"
  },
  "language_info": {
   "codemirror_mode": {
    "name": "ipython",
    "version": 3
   },
   "file_extension": ".py",
   "mimetype": "text/x-python",
   "name": "python",
   "nbconvert_exporter": "python",
   "pygments_lexer": "ipython3",
   "version": "3.5.3"
  }
 },
 "nbformat": 4,
 "nbformat_minor": 0
}
