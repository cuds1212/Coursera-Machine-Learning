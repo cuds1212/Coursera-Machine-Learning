{
 "cells": [
  {
   "cell_type": "markdown",
   "metadata": {},
   "source": [
    "# Coursera Machine Learning\n",
    "\n",
    "## Week 3 - (Regularized) Logistic Regression\n",
    "\n",
    "**Kevin Rompala, Ph.D., cuds1212_AT_gmail.com**\n",
    "\n",
    "*Last Updated: Friday, March 17, 2017*"
   ]
  },
  {
   "cell_type": "markdown",
   "metadata": {},
   "source": [
    "## Part 1 - Logistic Regression\n",
    "\n",
    "From the handout...\n",
    "\n",
    "*Suppose that you are the administrator of a university department and you want to determine each applicant's chance of admission based on their results on two exams. You have historical data from previous applicants that you can use as a training set for logistic regression. For each training example, you have the applicant's scores on two exams and the admissions decision. Your task is to build a classification model that estimates an applicant's probability of admission based on the scores from those two exams.*"
   ]
  },
  {
   "cell_type": "code",
   "execution_count": 1,
   "metadata": {
    "collapsed": false
   },
   "outputs": [
    {
     "name": "stdout",
     "output_type": "stream",
     "text": [
      "Untitled.ipynb  ex2data1.txt    ex2data2.txt\r\n"
     ]
    }
   ],
   "source": [
    "%ls"
   ]
  },
  {
   "cell_type": "markdown",
   "metadata": {},
   "source": [
    "The data for Part 1 is in the file ```ex2data1.txt```."
   ]
  },
  {
   "cell_type": "code",
   "execution_count": 2,
   "metadata": {
    "collapsed": true
   },
   "outputs": [],
   "source": [
    "import numpy as np\n",
    "import pandas as pd\n",
    "import matplotlib.pyplot as plt\n",
    "\n",
    "%matplotlib inline"
   ]
  },
  {
   "cell_type": "code",
   "execution_count": 4,
   "metadata": {
    "collapsed": false
   },
   "outputs": [],
   "source": [
    "data = pd.read_csv('./ex2data1.txt', header=None, names=['exam1','exam2','admit'])"
   ]
  },
  {
   "cell_type": "code",
   "execution_count": 5,
   "metadata": {
    "collapsed": false
   },
   "outputs": [
    {
     "name": "stdout",
     "output_type": "stream",
     "text": [
      "<class 'pandas.core.frame.DataFrame'>\n",
      "RangeIndex: 100 entries, 0 to 99\n",
      "Data columns (total 3 columns):\n",
      "exam1    100 non-null float64\n",
      "exam2    100 non-null float64\n",
      "admit    100 non-null int64\n",
      "dtypes: float64(2), int64(1)\n",
      "memory usage: 2.4 KB\n"
     ]
    }
   ],
   "source": [
    "data.info()"
   ]
  },
  {
   "cell_type": "code",
   "execution_count": 6,
   "metadata": {
    "collapsed": false
   },
   "outputs": [
    {
     "data": {
      "text/html": [
       "<div>\n",
       "<table border=\"1\" class=\"dataframe\">\n",
       "  <thead>\n",
       "    <tr style=\"text-align: right;\">\n",
       "      <th></th>\n",
       "      <th>exam1</th>\n",
       "      <th>exam2</th>\n",
       "      <th>admit</th>\n",
       "    </tr>\n",
       "  </thead>\n",
       "  <tbody>\n",
       "    <tr>\n",
       "      <th>0</th>\n",
       "      <td>34.623660</td>\n",
       "      <td>78.024693</td>\n",
       "      <td>0</td>\n",
       "    </tr>\n",
       "    <tr>\n",
       "      <th>1</th>\n",
       "      <td>30.286711</td>\n",
       "      <td>43.894998</td>\n",
       "      <td>0</td>\n",
       "    </tr>\n",
       "    <tr>\n",
       "      <th>2</th>\n",
       "      <td>35.847409</td>\n",
       "      <td>72.902198</td>\n",
       "      <td>0</td>\n",
       "    </tr>\n",
       "    <tr>\n",
       "      <th>3</th>\n",
       "      <td>60.182599</td>\n",
       "      <td>86.308552</td>\n",
       "      <td>1</td>\n",
       "    </tr>\n",
       "    <tr>\n",
       "      <th>4</th>\n",
       "      <td>79.032736</td>\n",
       "      <td>75.344376</td>\n",
       "      <td>1</td>\n",
       "    </tr>\n",
       "  </tbody>\n",
       "</table>\n",
       "</div>"
      ],
      "text/plain": [
       "       exam1      exam2  admit\n",
       "0  34.623660  78.024693      0\n",
       "1  30.286711  43.894998      0\n",
       "2  35.847409  72.902198      0\n",
       "3  60.182599  86.308552      1\n",
       "4  79.032736  75.344376      1"
      ]
     },
     "execution_count": 6,
     "metadata": {},
     "output_type": "execute_result"
    }
   ],
   "source": [
    "data.head()"
   ]
  },
  {
   "cell_type": "markdown",
   "metadata": {},
   "source": [
    "This is a clean dataset. The ```admit``` variable is `0` if the student was not offered admission and `1` if they were."
   ]
  },
  {
   "cell_type": "markdown",
   "metadata": {},
   "source": [
    "First we will visualize this two-dimensional dataset."
   ]
  },
  {
   "cell_type": "code",
   "execution_count": 40,
   "metadata": {
    "collapsed": false
   },
   "outputs": [
    {
     "data": {
      "image/png": "[encoded data removed]",
      "text/plain": [
       "<matplotlib.figure.Figure at 0x119968f60>"
      ]
     },
     "metadata": {},
     "output_type": "display_data"
    }
   ],
   "source": [
    "x_pos = data[data.admit==1].exam1.values\n",
    "y_pos = data[data.admit==1].exam2.values\n",
    "x_neg = data[data.admit==0].exam1.values\n",
    "y_neg = data[data.admit==0].exam2.values\n",
    "\n",
    "fit, ax = plt.subplots(figsize=(10,7))\n",
    "ax.plot(x_pos,y_pos,'b+',Markersize=8,Markeredgewidth=2,label='Admitted')\n",
    "ax.plot(x_neg,y_neg,'rx',Markersize=8,Markeredgewidth=2,label='Not Admitted')\n",
    "\n",
    "ax.set_xlabel('Exam 1 Score')\n",
    "ax.set_ylabel('Exam 2 Score')\n",
    "ax.set_title('Exam 1 vs Exam 2 Scores')\n",
    "\n",
    "ax.legend(numpoints=1)\n",
    "\n",
    "ax.grid(True)\n",
    "ax.set_xlim([25, 105])\n",
    "ax.set_ylim([25, 105])\n",
    "\n",
    "plt.show()"
   ]
  },
  {
   "cell_type": "markdown",
   "metadata": {},
   "source": [
    "Now we will use our own gradient descent method to fit a logistic regression model to this data."
   ]
  },
  {
   "cell_type": "code",
   "execution_count": 52,
   "metadata": {
    "collapsed": true
   },
   "outputs": [],
   "source": [
    "def sigmoid(x):\n",
    "    \"\"\"\n",
    "    Computes the sigmoid function.\n",
    "    \n",
    "    x = Numpy array\n",
    "    \"\"\"\n",
    "    \n",
    "    #return 1 / (1+np.exp(x))\n",
    "    return np.exp(-np.logaddexp(0, -x))\n",
    "\n",
    "def computeCost(X, y, theta):\n",
    "    \"\"\"\n",
    "    Computes the cost function used with logistic regression.\n",
    "    \n",
    "    X = m-by-n+1 NumPy array\n",
    "    y = m-by-1 Numpy array\n",
    "    theta = n+1-by-1 Numpy array\n",
    "    \"\"\"\n",
    "    m = len(y)\n",
    "    \n",
    "    cost = -(1/m)*np.sum(y.T @ np.log(sigmoid(X @ theta)) + (1-y).T @ np.log(1-sigmoid(X @ theta)))\n",
    "        \n",
    "    return cost"
   ]
  },
  {
   "cell_type": "markdown",
   "metadata": {},
   "source": [
    "Now let us test the ```computeCost``` function using default parameter values of ```0```."
   ]
  },
  {
   "cell_type": "code",
   "execution_count": 270,
   "metadata": {
    "collapsed": false
   },
   "outputs": [
    {
     "name": "stdout",
     "output_type": "stream",
     "text": [
      "The default cost with parameters equal to zero is 0.6931471805599452.\n"
     ]
    }
   ],
   "source": [
    "x = data[['exam1','exam2']].values.reshape(-1,2)\n",
    "y = data.admit.values.reshape(-1,1)\n",
    "\n",
    "theta = np.array([[0],[0],[0]])\n",
    "\n",
    "X = np.concatenate([np.ones([len(x),1]),x],axis=1)\n",
    "\n",
    "defaultCost = computeCost(X,y,theta)\n",
    "\n",
    "print('The default cost with parameters equal to zero is {}.'.format(defaultCost))"
   ]
  },
  {
   "cell_type": "markdown",
   "metadata": {},
   "source": [
    "To find optimal values for the parameters in our logistic regression model we will reuse our ```gradientDescent``` function from Week 2."
   ]
  },
  {
   "cell_type": "code",
   "execution_count": 271,
   "metadata": {
    "collapsed": true
   },
   "outputs": [],
   "source": [
    "def gradientDescent(X,y,theta,alpha,num_iters):\n",
    "    \"\"\"\n",
    "    Implements the gradient descent algrorithm for logistic regression.\n",
    "    \n",
    "    X = m-by-n+1 NumPy array\n",
    "    y = m-by-1 Numpy array\n",
    "    theta = n+1-by-1 Numpy array\n",
    "    alpha = learning rate (float)\n",
    "    num_iters = maximum number of iterations (int)\n",
    "    \"\"\"\n",
    "    \n",
    "    J_hist = np.zeros((num_iters+1,1))\n",
    "    \n",
    "    m = len(y)\n",
    "    \n",
    "    for i in range(num_iters):\n",
    "        J_hist[i] = computeCost(X,y,theta)\n",
    "        theta = theta - (alpha/m)*X.T @ (sigmoid(X @ theta) - y) # vectorized gradient descent\n",
    "\n",
    "    J_hist[num_iters] = computeCost(X,y,theta)\n",
    "        \n",
    "    return [theta, J_hist]"
   ]
  },
  {
   "cell_type": "code",
   "execution_count": 272,
   "metadata": {
    "collapsed": false
   },
   "outputs": [],
   "source": [
    "theta_final, J_hist = gradientDescent(X,y,theta,0.0015,500000)"
   ]
  },
  {
   "cell_type": "code",
   "execution_count": 273,
   "metadata": {
    "collapsed": false
   },
   "outputs": [
    {
     "data": {
      "text/plain": [
       "<matplotlib.text.Text at 0x11d66ee10>"
      ]
     },
     "execution_count": 273,
     "metadata": {},
     "output_type": "execute_result"
    },
    {
     "data": {
      "image/png": "[encoded data removed]",
      "text/plain": [
       "<matplotlib.figure.Figure at 0x11a9fbb00>"
      ]
     },
     "metadata": {},
     "output_type": "display_data"
    }
   ],
   "source": [
    "fig,ax = plt.subplots()\n",
    "\n",
    "ax.plot(range(len(J_hist)),J_hist,'r')\n",
    "ax.grid(True)\n",
    "ax.set_xlim([0, 500000])\n",
    "ax.set_ylim([0,1])\n",
    "\n",
    "ax.set_xlabel('Number of Iterations')\n",
    "ax.set_ylabel('Value of Cost Function')\n",
    "ax.set_title('Value of Cost Function vs. Number of Iterations')"
   ]
  },
  {
   "cell_type": "code",
   "execution_count": 274,
   "metadata": {
    "collapsed": false
   },
   "outputs": [
    {
     "name": "stdout",
     "output_type": "stream",
     "text": [
      "The optimal parameter values are:\n",
      "\n",
      "theta0: -14.024578177281432\n",
      "theta1: 0.11735112952755639\n",
      "theta2: 0.11143969376973308\n"
     ]
    }
   ],
   "source": [
    "print('The optimal parameter values are:\\n')\n",
    "for i in range(len(theta_final)):\n",
    "    print('theta{}'.format(i) + ': ' + '{}'.format(float(theta_final[i])))"
   ]
  },
  {
   "cell_type": "code",
   "execution_count": 275,
   "metadata": {
    "collapsed": true
   },
   "outputs": [],
   "source": [
    "m = float(-theta_final[1]/theta_final[2])\n",
    "b = float(-theta_final[0]/theta_final[2])"
   ]
  },
  {
   "cell_type": "code",
   "execution_count": 276,
   "metadata": {
    "collapsed": false
   },
   "outputs": [
    {
     "name": "stdout",
     "output_type": "stream",
     "text": [
      "-1.0530460517061189\n"
     ]
    }
   ],
   "source": [
    "print(m)"
   ]
  },
  {
   "cell_type": "code",
   "execution_count": 277,
   "metadata": {
    "collapsed": false
   },
   "outputs": [
    {
     "name": "stdout",
     "output_type": "stream",
     "text": [
      "125.8490372942006\n"
     ]
    }
   ],
   "source": [
    "print(b)"
   ]
  },
  {
   "cell_type": "code",
   "execution_count": 278,
   "metadata": {
    "collapsed": false
   },
   "outputs": [
    {
     "data": {
      "image/png": "[encoded data removed]",
      "text/plain": [
       "<matplotlib.figure.Figure at 0x11a9a8668>"
      ]
     },
     "metadata": {},
     "output_type": "display_data"
    }
   ],
   "source": [
    "x_pos = data[data.admit==1].exam1.values\n",
    "y_pos = data[data.admit==1].exam2.values\n",
    "x_neg = data[data.admit==0].exam1.values\n",
    "y_neg = data[data.admit==0].exam2.values\n",
    "\n",
    "fit, ax = plt.subplots(figsize=(10,7))\n",
    "ax.plot(x_pos,y_pos,'b+',Markersize=8,Markeredgewidth=2,label='Admitted')\n",
    "ax.plot(x_neg,y_neg,'rx',Markersize=8,Markeredgewidth=2,label='Not Admitted')\n",
    "\n",
    "t = np.linspace(0,100,1000)\n",
    "ax.plot(t,m*t+b,'g',linewidth=3,label='Logistic Regression Decision Boundary')\n",
    "\n",
    "ax.set_xlabel('Exam 1 Score')\n",
    "ax.set_ylabel('Exam 2 Score')\n",
    "ax.set_title('Exam 1 vs Exam 2 Scores')\n",
    "\n",
    "ax.legend(numpoints=1)\n",
    "\n",
    "ax.grid(True)\n",
    "ax.set_xlim([25, 105])\n",
    "ax.set_ylim([25, 105])\n",
    "\n",
    "plt.show()"
   ]
  },
  {
   "cell_type": "code",
   "execution_count": null,
   "metadata": {
    "collapsed": true
   },
   "outputs": [],
   "source": []
  },
  {
   "cell_type": "code",
   "execution_count": null,
   "metadata": {
    "collapsed": true
   },
   "outputs": [],
   "source": []
  },
  {
   "cell_type": "code",
   "execution_count": null,
   "metadata": {
    "collapsed": true
   },
   "outputs": [],
   "source": []
  },
  {
   "cell_type": "code",
   "execution_count": null,
   "metadata": {
    "collapsed": true
   },
   "outputs": [],
   "source": []
  },
  {
   "cell_type": "code",
   "execution_count": null,
   "metadata": {
    "collapsed": true
   },
   "outputs": [],
   "source": []
  },
  {
   "cell_type": "code",
   "execution_count": null,
   "metadata": {
    "collapsed": true
   },
   "outputs": [],
   "source": []
  },
  {
   "cell_type": "code",
   "execution_count": 252,
   "metadata": {
    "collapsed": false
   },
   "outputs": [
    {
     "data": {
      "text/plain": [
       "LogisticRegression(C=1000000, class_weight=None, dual=False,\n",
       "          fit_intercept=True, intercept_scaling=1, max_iter=1000,\n",
       "          multi_class='ovr', n_jobs=1, penalty='l2', random_state=None,\n",
       "          solver='liblinear', tol=0.0001, verbose=0, warm_start=False)"
      ]
     },
     "execution_count": 252,
     "metadata": {},
     "output_type": "execute_result"
    }
   ],
   "source": [
    "from sklearn.linear_model import LogisticRegression\n",
    "\n",
    "x = data[['exam1','exam2']].values\n",
    "y = data['admit'].values\n",
    "\n",
    "log_reg = LogisticRegression(C=1000000,max_iter=1000)\n",
    "log_reg.fit(x,y)"
   ]
  },
  {
   "cell_type": "code",
   "execution_count": 253,
   "metadata": {
    "collapsed": false
   },
   "outputs": [
    {
     "data": {
      "text/plain": [
       "0.20458393546915277"
      ]
     },
     "execution_count": 253,
     "metadata": {},
     "output_type": "execute_result"
    }
   ],
   "source": [
    "log_reg.coef_[0][0]"
   ]
  },
  {
   "cell_type": "code",
   "execution_count": 254,
   "metadata": {
    "collapsed": false
   },
   "outputs": [
    {
     "data": {
      "text/plain": [
       "-24.955278335880667"
      ]
     },
     "execution_count": 254,
     "metadata": {},
     "output_type": "execute_result"
    }
   ],
   "source": [
    "log_reg.intercept_[0]"
   ]
  },
  {
   "cell_type": "code",
   "execution_count": 255,
   "metadata": {
    "collapsed": false
   },
   "outputs": [],
   "source": [
    "m = (-log_reg.coef_[0][0]/log_reg.coef_[0][1])\n",
    "b = (-log_reg.intercept_[0]/log_reg.coef_[0][1])"
   ]
  },
  {
   "cell_type": "code",
   "execution_count": 256,
   "metadata": {
    "collapsed": false
   },
   "outputs": [
    {
     "data": {
      "image/png": "[encoded data removed]",
      "text/plain": [
       "<matplotlib.figure.Figure at 0x105a8ae48>"
      ]
     },
     "metadata": {},
     "output_type": "display_data"
    }
   ],
   "source": [
    "x_pos = data[data.admit==1].exam1.values\n",
    "y_pos = data[data.admit==1].exam2.values\n",
    "x_neg = data[data.admit==0].exam1.values\n",
    "y_neg = data[data.admit==0].exam2.values\n",
    "\n",
    "fit, ax = plt.subplots(figsize=(10,7))\n",
    "ax.plot(x_pos,y_pos,'b+',Markersize=8,Markeredgewidth=2,label='Admitted')\n",
    "ax.plot(x_neg,y_neg,'rx',Markersize=8,Markeredgewidth=2,label='Not Admitted')\n",
    "\n",
    "t = np.linspace(0,100,1000)\n",
    "ax.plot(t,m*t+b,'g',linewidth=3,label='Logistic Regression Decision Boundary')\n",
    "\n",
    "ax.set_xlabel('Exam 1 Score')\n",
    "ax.set_ylabel('Exam 2 Score')\n",
    "ax.set_title('Exam 1 vs Exam 2 Scores')\n",
    "\n",
    "ax.legend(numpoints=1)\n",
    "\n",
    "ax.grid(True)\n",
    "ax.set_xlim([25, 105])\n",
    "ax.set_ylim([25, 105])\n",
    "\n",
    "plt.show()"
   ]
  },
  {
   "cell_type": "code",
   "execution_count": 257,
   "metadata": {
    "collapsed": false
   },
   "outputs": [
    {
     "data": {
      "text/plain": [
       "array([[ 0.22542485,  0.77457515]])"
      ]
     },
     "execution_count": 257,
     "metadata": {},
     "output_type": "execute_result"
    }
   ],
   "source": [
    "log_reg.predict_proba(np.array([[45,85]]))"
   ]
  },
  {
   "cell_type": "code",
   "execution_count": 206,
   "metadata": {
    "collapsed": false
   },
   "outputs": [
    {
     "data": {
      "text/plain": [
       "array([ 0.63881964])"
      ]
     },
     "execution_count": 206,
     "metadata": {},
     "output_type": "execute_result"
    }
   ],
   "source": [
    "theta_final[0]+theta_final[1]*45+theta_final[2]*85"
   ]
  },
  {
   "cell_type": "code",
   "execution_count": 258,
   "metadata": {
    "collapsed": false
   },
   "outputs": [
    {
     "data": {
      "text/plain": [
       "0.89000000000000001"
      ]
     },
     "execution_count": 258,
     "metadata": {},
     "output_type": "execute_result"
    }
   ],
   "source": [
    "(log_reg.predict(x)==y).sum()/len(y)"
   ]
  },
  {
   "cell_type": "code",
   "execution_count": 259,
   "metadata": {
    "collapsed": false
   },
   "outputs": [
    {
     "data": {
      "text/plain": [
       "0.89000000000000001"
      ]
     },
     "execution_count": 259,
     "metadata": {},
     "output_type": "execute_result"
    }
   ],
   "source": [
    "log_reg.score(x,y)"
   ]
  },
  {
   "cell_type": "code",
   "execution_count": 260,
   "metadata": {
    "collapsed": false
   },
   "outputs": [
    {
     "data": {
      "text/plain": [
       "array([17], dtype=int32)"
      ]
     },
     "execution_count": 260,
     "metadata": {},
     "output_type": "execute_result"
    }
   ],
   "source": [
    "log_reg.n_iter_"
   ]
  },
  {
   "cell_type": "code",
   "execution_count": null,
   "metadata": {
    "collapsed": true
   },
   "outputs": [],
   "source": []
  }
 ],
 "metadata": {
  "anaconda-cloud": {},
  "kernelspec": {
   "display_name": "Python [conda root]",
   "language": "python",
   "name": "conda-root-py"
  },
  "language_info": {
   "codemirror_mode": {
    "name": "ipython",
    "version": 3
   },
   "file_extension": ".py",
   "mimetype": "text/x-python",
   "name": "python",
   "nbconvert_exporter": "python",
   "pygments_lexer": "ipython3",
   "version": "3.5.3"
  }
 },
 "nbformat": 4,
 "nbformat_minor": 0
}
